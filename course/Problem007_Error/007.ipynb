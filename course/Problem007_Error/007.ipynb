{
  "nbformat": 4,
  "nbformat_minor": 0,
  "metadata": {
    "kernelspec": {
      "display_name": "Python 3",
      "language": "python",
      "name": "python3"
    },
    "language_info": {
      "codemirror_mode": {
        "name": "ipython",
        "version": 3
      },
      "file_extension": ".py",
      "mimetype": "text/x-python",
      "name": "python",
      "nbconvert_exporter": "python",
      "pygments_lexer": "ipython3",
      "version": "3.8.2-final"
    },
    "colab": {
      "name": "007.ipynb",
      "provenance": [],
      "include_colab_link": true
    }
  },
  "cells": [
    {
      "cell_type": "markdown",
      "metadata": {
        "id": "view-in-github",
        "colab_type": "text"
      },
      "source": [
        "<a href=\"https://colab.research.google.com/github/rawateg/pml/blob/master/course/Problem007_Error/007.ipynb\" target=\"_parent\"><img src=\"https://colab.research.google.com/assets/colab-badge.svg\" alt=\"Open In Colab\"/></a>"
      ]
    },
    {
      "cell_type": "markdown",
      "metadata": {
        "id": "cD15tXS9Sn0V"
      },
      "source": [
        "##  $\\hat{y}$ (y_hat)"
      ]
    },
    {
      "cell_type": "code",
      "metadata": {
        "scrolled": true,
        "id": "Q88IbdxiSn0W",
        "outputId": "19cb7354-7e4d-4152-e8bc-d5e64b51f59d",
        "colab": {
          "base_uri": "https://localhost:8080/"
        }
      },
      "source": [
        "'''\n",
        "+--------------+\n",
        "| f            |\n",
        "+--------------+\n",
        "| x1 | x2 | y  |\n",
        "+----+----+----+\n",
        "| 2  | 3  | 4  |\n",
        "+----+----+----+\n",
        "| 8  | 5  | 10  |\n",
        "+----+----+----+\n",
        "| 6  | 4  | 6  |\n",
        "+----+----+----+\n",
        "| 10 | 2  | 8  |\n",
        "+----+----+----+\n",
        "| 4  | 2  | 3  |\n",
        "+----+----+----+\n",
        "| 16 | 7  | 1 |\n",
        "+----+----+----+\n",
        "'''\n",
        "\n",
        "X = [\n",
        "    [2, 3],\n",
        "    [8, 5],\n",
        "    [6, 4],\n",
        "    [10, 2],\n",
        "    [4, 2],\n",
        "    [16, 7]\n",
        "]\n",
        "\n",
        "Y = [4, 10, 6, 8, 3, 1]\n",
        "\n",
        "\n",
        "def f_hat(x1, x2):\n",
        "    return int(x1/2 + x2)\n",
        "\n",
        "\n",
        "#TBD Compute Y_hat where y_hat = f_hat(x1, x2)\n",
        "Y_hat = [f_hat(x[0], x[1]) for x in X]\n",
        "Y_hat\n"
      ],
      "execution_count": 3,
      "outputs": [
        {
          "output_type": "execute_result",
          "data": {
            "text/plain": [
              "[4, 9, 7, 7, 4, 15]"
            ]
          },
          "metadata": {
            "tags": []
          },
          "execution_count": 3
        }
      ]
    },
    {
      "cell_type": "markdown",
      "metadata": {
        "id": "MZ2tMjdRSn0Z"
      },
      "source": [
        "## How far off are we? (Y vs $\\hat{Y}$)"
      ]
    },
    {
      "cell_type": "code",
      "metadata": {
        "id": "VBHcW6MQSn0a",
        "outputId": "7289c924-361d-4e76-d057-d25309b5ede6",
        "colab": {
          "base_uri": "https://localhost:8080/"
        }
      },
      "source": [
        "#TBD Compute Total(sum) Error between Y and Y_hat \n",
        "total_error = sum([ z[0] - z[1] for z in zip(Y, Y_hat)])\n",
        "#TBD Compute Total absolute Error between Y and Y_hat \n",
        "total_abs_error = sum([ abs(z[0] - z[1]) for z in zip(Y, Y_hat)])\n",
        "print(total_abs_error)\n",
        "#TBD Compute Mean absolute Error between Y and Y_hat \n",
        "mean_abs_error = total_abs_error/len(Y)\n",
        "print(mean_abs_error)\n",
        "#TBD Compute Mean Squared Error between Y and Y_hat\n",
        "mean_squared_error = sum([ (z[0] - z[1])**2 for z in zip(Y, Y_hat)])/len(Y)\n",
        "print(mean_squared_error)"
      ],
      "execution_count": 9,
      "outputs": [
        {
          "output_type": "stream",
          "text": [
            "18\n",
            "3.0\n",
            "33.333333333333336\n"
          ],
          "name": "stdout"
        }
      ]
    },
    {
      "cell_type": "code",
      "metadata": {
        "id": "Vz3im1o4Sn0c",
        "outputId": "53f48557-a0ff-47ae-d4e6-07f05545b8ac",
        "colab": {
          "base_uri": "https://localhost:8080/"
        }
      },
      "source": [
        "from sklearn.metrics import mean_absolute_error, mean_squared_error\n",
        "#Use sklearn\n",
        "#TBD Compute Mean absolute Error between Y and Y_hat \n",
        "#TBD Compute Mean squared Error between Y and Y_hat\n",
        "mean_squared_error(Y, Y_hat)"
      ],
      "execution_count": 11,
      "outputs": [
        {
          "output_type": "execute_result",
          "data": {
            "text/plain": [
              "33.333333333333336"
            ]
          },
          "metadata": {
            "tags": []
          },
          "execution_count": 11
        }
      ]
    },
    {
      "cell_type": "code",
      "metadata": {
        "id": "xFpIO9y9J3k3",
        "outputId": "53fc9f21-7403-4f7c-c5e8-417174701ccd",
        "colab": {
          "base_uri": "https://localhost:8080/"
        }
      },
      "source": [
        "import numpy as np\n",
        "\n",
        "Y = np.array(Y)\n",
        "Y_hat = np.array(Y_hat)\n",
        "\n",
        "Y - Y_hat"
      ],
      "execution_count": 14,
      "outputs": [
        {
          "output_type": "execute_result",
          "data": {
            "text/plain": [
              "200"
            ]
          },
          "metadata": {
            "tags": []
          },
          "execution_count": 14
        }
      ]
    },
    {
      "cell_type": "code",
      "metadata": {
        "id": "1biqkHokJu1G"
      },
      "source": [
        ""
      ],
      "execution_count": null,
      "outputs": []
    }
  ]
}