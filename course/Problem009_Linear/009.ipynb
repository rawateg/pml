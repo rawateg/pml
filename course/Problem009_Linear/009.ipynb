{
  "nbformat": 4,
  "nbformat_minor": 0,
  "metadata": {
    "kernelspec": {
      "display_name": "Python 3",
      "language": "python",
      "name": "python3"
    },
    "language_info": {
      "codemirror_mode": {
        "name": "ipython",
        "version": 3
      },
      "file_extension": ".py",
      "mimetype": "text/x-python",
      "name": "python",
      "nbconvert_exporter": "python",
      "pygments_lexer": "ipython3",
      "version": "3.8.2-final"
    },
    "colab": {
      "name": "009.ipynb",
      "provenance": [],
      "include_colab_link": true
    }
  },
  "cells": [
    {
      "cell_type": "markdown",
      "metadata": {
        "id": "view-in-github",
        "colab_type": "text"
      },
      "source": [
        "<a href=\"https://colab.research.google.com/github/rawateg/pml/blob/master/course/Problem009_Linear/009.ipynb\" target=\"_parent\"><img src=\"https://colab.research.google.com/assets/colab-badge.svg\" alt=\"Open In Colab\"/></a>"
      ]
    },
    {
      "cell_type": "markdown",
      "metadata": {
        "id": "RxuoDv56FkjQ"
      },
      "source": [
        "## What does linear model do\n"
      ]
    },
    {
      "cell_type": "markdown",
      "metadata": {
        "id": "4rcwZeOjFkjR"
      },
      "source": [
        "## 1-dimensional input (feature)"
      ]
    },
    {
      "cell_type": "code",
      "metadata": {
        "scrolled": true,
        "id": "9sINGU35FkjR"
      },
      "source": [
        "import numpy as np\n",
        "from sklearn import linear_model\n",
        "X_train = np.array([[1],[2],[3],[4]])\n",
        "Y_train = np.array([1,2,3,4])\n",
        "\n",
        "#TBD fit linear model and predict for x=7\n"
      ],
      "execution_count": null,
      "outputs": []
    },
    {
      "cell_type": "code",
      "metadata": {
        "id": "lhtdZZb-FkjV"
      },
      "source": [
        "X_train = np.array([[1],[2],[3],[4]])\n",
        "Y_train = np.array([3,4,5,6])\n",
        "\n",
        "#TBD fit linear model and predict for x=7"
      ],
      "execution_count": null,
      "outputs": []
    },
    {
      "cell_type": "code",
      "metadata": {
        "id": "-gd1nxGsFkjY"
      },
      "source": [
        "X_train = np.array([[0],[0.1],[2],[2.1],[4],[4.1]])\n",
        "Y_train = np.array([0,2,1,3,2,4])\n",
        "\n",
        "#TBD fit linear model and predict for x=4\n"
      ],
      "execution_count": null,
      "outputs": []
    },
    {
      "cell_type": "code",
      "metadata": {
        "id": "NYkhDA9NFkjb"
      },
      "source": [
        "#TBD Plot above 3 models"
      ],
      "execution_count": null,
      "outputs": []
    },
    {
      "cell_type": "markdown",
      "metadata": {
        "id": "vUETelt5Fkjd"
      },
      "source": [
        "## 2 dimensional input (features)"
      ]
    },
    {
      "cell_type": "code",
      "metadata": {
        "id": "znfJlTAiFkje"
      },
      "source": [
        "from random import random, seed\n",
        "\n",
        "n = 50\n",
        "seed(1)                                     \n",
        "X_train = [[random(), random()] for i in range(n)]              \n",
        "Y_train = [random() for i in range(n)]\n",
        "\n",
        "#TBD fit linear model and predict for x=(7,8)"
      ],
      "execution_count": null,
      "outputs": []
    },
    {
      "cell_type": "code",
      "metadata": {
        "id": "dNYYjOEOFkjg"
      },
      "source": [
        "#Plot above model"
      ],
      "execution_count": null,
      "outputs": []
    },
    {
      "cell_type": "markdown",
      "metadata": {
        "id": "kX6c2BU3Fkjk"
      },
      "source": [
        "## 13 dimensional input (features)"
      ]
    },
    {
      "cell_type": "code",
      "metadata": {
        "id": "3J3Mkv6nFkjl"
      },
      "source": [
        "#TBD Load boston dataset"
      ],
      "execution_count": null,
      "outputs": []
    },
    {
      "cell_type": "code",
      "metadata": {
        "id": "p3o1EGf3Fkjn"
      },
      "source": [
        "#TBD Split into Train and Test dataset. random 90% 10%"
      ],
      "execution_count": null,
      "outputs": []
    },
    {
      "cell_type": "code",
      "metadata": {
        "id": "pqD4KTcfFkjq"
      },
      "source": [
        "#TBD Fit linear model on Training data"
      ],
      "execution_count": null,
      "outputs": []
    },
    {
      "cell_type": "code",
      "metadata": {
        "id": "yH6OdAZWFkjs"
      },
      "source": [
        "#TBD Predict for Test data"
      ],
      "execution_count": null,
      "outputs": []
    },
    {
      "cell_type": "code",
      "metadata": {
        "id": "loBeRA2NFkju"
      },
      "source": [
        "#TBD Mean squared error for your predictions"
      ],
      "execution_count": null,
      "outputs": []
    },
    {
      "cell_type": "markdown",
      "metadata": {
        "id": "pLmrQsrTFkjw"
      },
      "source": [
        "## Problems with linear model\n",
        "![title](https://github.com/rawata/pml/blob/master/img/anscombe_quartet.png?raw=1)\n",
        "\n",
        "### Ansombe Quartet \n",
        "### y = x/2 + 3"
      ]
    }
  ]
}