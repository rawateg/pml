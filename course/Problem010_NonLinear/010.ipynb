{
 "cells": [
  {
   "source": [
    "## Non Linear functions\n",
    "$\n",
    "sigmoid(x)={\\frac {1}{1+e^{-x}}}\n",
    "$\n",
    "\n",
    "$\n",
    "tanh(x)={\\frac {e^{x} - e^{-x}}{e^{x}+e^{-x}}}\n",
    "$\n",
    "\n",
    "$\n",
    "ReLU(x) = \\left\\{\n",
    "        \\begin{array}{lll}\n",
    "            0 & for & x \\leq 0  \\\\\n",
    "            x & for & x > 0\n",
    "        \\end{array}\n",
    "    \\right.\n",
    "$\n",
    "\n"
   ],
   "cell_type": "markdown",
   "metadata": {
    "scrolled": true
   }
  },
  {
   "cell_type": "code",
   "execution_count": 2,
   "metadata": {},
   "outputs": [],
   "source": [
    "#TBD implement following non-linear functions\n",
    "\n",
    "def sigmoid(x):\n",
    "    pass\n",
    "\n",
    "def tanh(x):\n",
    "    pass\n",
    "\n",
    "def relu(x):\n",
    "    pass"
   ]
  },
  {
   "cell_type": "code",
   "execution_count": 3,
   "metadata": {},
   "outputs": [],
   "source": [
    "#TBD plot above non-linear functions"
   ]
  }
 ],
 "metadata": {
  "kernelspec": {
   "display_name": "Python 3",
   "language": "python",
   "name": "python3"
  },
  "language_info": {
   "codemirror_mode": {
    "name": "ipython",
    "version": 3
   },
   "file_extension": ".py",
   "mimetype": "text/x-python",
   "name": "python",
   "nbconvert_exporter": "python",
   "pygments_lexer": "ipython3",
   "version": "3.8.2-final"
  }
 },
 "nbformat": 4,
 "nbformat_minor": 2
}