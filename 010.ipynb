{
  "nbformat": 4,
  "nbformat_minor": 0,
  "metadata": {
    "kernelspec": {
      "display_name": "Python 3",
      "language": "python",
      "name": "python3"
    },
    "language_info": {
      "codemirror_mode": {
        "name": "ipython",
        "version": 3
      },
      "file_extension": ".py",
      "mimetype": "text/x-python",
      "name": "python",
      "nbconvert_exporter": "python",
      "pygments_lexer": "ipython3",
      "version": "3.8.2-final"
    },
    "colab": {
      "name": "010.ipynb",
      "provenance": [],
      "include_colab_link": true
    }
  },
  "cells": [
    {
      "cell_type": "markdown",
      "metadata": {
        "id": "view-in-github",
        "colab_type": "text"
      },
      "source": [
        "<a href=\"https://colab.research.google.com/github/rawateg/pml/blob/master/010.ipynb\" target=\"_parent\"><img src=\"https://colab.research.google.com/assets/colab-badge.svg\" alt=\"Open In Colab\"/></a>"
      ]
    },
    {
      "cell_type": "markdown",
      "metadata": {
        "scrolled": true,
        "id": "8WlvtTJbfQnd"
      },
      "source": [
        "## Non Linear functions\n",
        "$\n",
        "sigmoid(x)={\\frac {1}{1+e^{-x}}}\n",
        "$\n",
        "\n",
        "$\n",
        "tanh(x)={\\frac {e^{x} - e^{-x}}{e^{x}+e^{-x}}}\n",
        "$\n",
        "\n",
        "$\n",
        "ReLU(x) = \\left\\{\n",
        "        \\begin{array}{lll}\n",
        "            0 & for & x \\leq 0  \\\\\n",
        "            x & for & x > 0\n",
        "        \\end{array}\n",
        "    \\right.\n",
        "$\n",
        "\n"
      ]
    },
    {
      "cell_type": "code",
      "metadata": {
        "id": "xhDwdns8fQne"
      },
      "source": [
        "#TBD implement following non-linear functions\n",
        "\n",
        "def sigmoid(x):\n",
        "    pass\n",
        "\n",
        "def tanh(x):\n",
        "    pass\n",
        "\n",
        "def relu(x):\n",
        "    pass"
      ],
      "execution_count": null,
      "outputs": []
    },
    {
      "cell_type": "code",
      "metadata": {
        "id": "LF-QzA6lfQni"
      },
      "source": [
        "#TBD plot above non-linear functions"
      ],
      "execution_count": null,
      "outputs": []
    }
  ]
}